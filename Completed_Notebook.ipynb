{
  "nbformat": 4,
  "nbformat_minor": 0,
  "metadata": {
    "colab": {
      "name": "Completed_Notebook.ipynb",
      "provenance": [],
      "collapsed_sections": []
    },
    "kernelspec": {
      "name": "python3",
      "display_name": "Python 3"
    }
  },
  "cells": [
    {
      "cell_type": "markdown",
      "metadata": {
        "id": "KeHZOb76Eoao",
        "colab_type": "text"
      },
      "source": [
        "## Classify Radio Signals from Space with Keras"
      ]
    },
    {
      "cell_type": "markdown",
      "metadata": {
        "id": "fB2voc0SFB0W",
        "colab_type": "text"
      },
      "source": [
        "### Task 1: Import Libraries"
      ]
    },
    {
      "cell_type": "code",
      "metadata": {
        "id": "2pO03vSBEc6D",
        "colab_type": "code",
        "colab": {}
      },
      "source": [
        "from livelossplot.tf_keras import PlotLossesCallback\n",
        "import pandas as pd\n",
        "import numpy as np\n",
        "import matplotlib.pyplot as plt\n",
        "\n",
        "import tensorflow as tf\n",
        "\n",
        "from sklearn.metrics import confusion_matrix\n",
        "from sklearn import metrics\n",
        "\n",
        "import numpy as np\n",
        "np.random.seed(42)\n",
        "import warnings;warnings.simplefilter('ignore')\n",
        "%matplotlib inline\n",
        "print('Tensorflow version:', tf.__version__)"
      ],
      "execution_count": 0,
      "outputs": []
    },
    {
      "cell_type": "markdown",
      "metadata": {
        "id": "lYt4AvyeFJPn",
        "colab_type": "text"
      },
      "source": [
        "## Task 2: Load and Preprocess SETI Data"
      ]
    },
    {
      "cell_type": "code",
      "metadata": {
        "id": "oDubuBkZEgaE",
        "colab_type": "code",
        "colab": {}
      },
      "source": [
        "train_images = pd.read_csv('dataset/train/images.csv', header=None)\n",
        "train_labels = pd.read_csv('dataset/train/labels.csv', header=None)\n",
        "\n",
        "val_images = pd.read_csv('dataset/validation/images.csv', header=None)\n",
        "val_labels = pd.read_csv('dataset/validation/labels.csv', header=None)"
      ],
      "execution_count": 0,
      "outputs": []
    },
    {
      "cell_type": "code",
      "metadata": {
        "id": "VVISghQ3Egcd",
        "colab_type": "code",
        "colab": {}
      },
      "source": [
        "train_images.head()"
      ],
      "execution_count": 0,
      "outputs": []
    },
    {
      "cell_type": "code",
      "metadata": {
        "id": "BCQy-0ZsEgfa",
        "colab_type": "code",
        "colab": {}
      },
      "source": [
        "train_labels.head()"
      ],
      "execution_count": 0,
      "outputs": []
    },
    {
      "cell_type": "code",
      "metadata": {
        "id": "DfJSg_p8Egh4",
        "colab_type": "code",
        "colab": {}
      },
      "source": [
        "print(\"Training set shape:\", train_images.shape, train_labels.shape)\n",
        "print(\"Validation set shape:\", val_images.shape, val_labels.shape)"
      ],
      "execution_count": 0,
      "outputs": []
    },
    {
      "cell_type": "code",
      "metadata": {
        "id": "FJGhlNb2Egj7",
        "colab_type": "code",
        "colab": {}
      },
      "source": [
        "x_train = train_images.values.reshape(3200, 64, 128, 1)\n",
        "x_val = val_images.values.reshape(800, 64, 128, 1)\n",
        "\n",
        "y_train = train_labels.values\n",
        "y_val = val_labels.values"
      ],
      "execution_count": 0,
      "outputs": []
    },
    {
      "cell_type": "code",
      "metadata": {
        "id": "CpCUl4_JEgmn",
        "colab_type": "code",
        "colab": {}
      },
      "source": [
        ""
      ],
      "execution_count": 0,
      "outputs": []
    },
    {
      "cell_type": "markdown",
      "metadata": {
        "id": "pAC1DPXrF8oS",
        "colab_type": "text"
      },
      "source": [
        "## Task 3: Plot 2D Spectrograms"
      ]
    },
    {
      "cell_type": "code",
      "metadata": {
        "id": "PTOmtFOaEgpN",
        "colab_type": "code",
        "colab": {}
      },
      "source": [
        "plt.figure(0, figsize=(12,12))\n",
        "for i in range(1,4):\n",
        "    plt.subplot(1,3,i)\n",
        "    img = np.squeeze(x_train[np.random.randint(0, x_train.shape[0])])\n",
        "    plt.xticks([])\n",
        "    plt.yticks([])\n",
        "    plt.imshow(img)"
      ],
      "execution_count": 0,
      "outputs": []
    },
    {
      "cell_type": "code",
      "metadata": {
        "id": "M2GiQa6QGg-B",
        "colab_type": "code",
        "colab": {}
      },
      "source": [
        "plt.imshow(np.squeeze(x_train[3]), cmap=\"gray\");"
      ],
      "execution_count": 0,
      "outputs": []
    },
    {
      "cell_type": "code",
      "metadata": {
        "id": "-uVTyriQGqrR",
        "colab_type": "code",
        "colab": {}
      },
      "source": [
        ""
      ],
      "execution_count": 0,
      "outputs": []
    },
    {
      "cell_type": "markdown",
      "metadata": {
        "id": "jqJJhvGkGqz1",
        "colab_type": "text"
      },
      "source": [
        "## Task 4: Create Training and Validation Data Generators"
      ]
    },
    {
      "cell_type": "code",
      "metadata": {
        "id": "tP6I_MnnGwW-",
        "colab_type": "code",
        "colab": {}
      },
      "source": [
        "from tensorflow.keras.preprocessing.image import ImageDataGenerator\n",
        "\n",
        "datagen_train = ImageDataGenerator(horizontal_flip=True)\n",
        "datagen_train.fit(x_train)\n",
        "\n",
        "datagen_val = ImageDataGenerator(horizontal_flip=True)\n",
        "datagen_val.fit(x_val)"
      ],
      "execution_count": 0,
      "outputs": []
    },
    {
      "cell_type": "code",
      "metadata": {
        "id": "48xSPckOGwoV",
        "colab_type": "code",
        "colab": {}
      },
      "source": [
        ""
      ],
      "execution_count": 0,
      "outputs": []
    },
    {
      "cell_type": "markdown",
      "metadata": {
        "id": "-UEvdu2bHKEQ",
        "colab_type": "text"
      },
      "source": [
        "## Task 5: Creating the CNN Model"
      ]
    },
    {
      "cell_type": "code",
      "metadata": {
        "id": "tqpC-6NQGwrQ",
        "colab_type": "code",
        "colab": {}
      },
      "source": [
        "from tensorflow.keras.layers import Dense, Input, Dropout,Flatten, Conv2D\n",
        "from tensorflow.keras.layers import BatchNormalization, Activation, MaxPooling2D\n",
        "\n",
        "from tensorflow.keras.models import Model, Sequential\n",
        "from tensorflow.keras.optimizers import Adam, SGD\n",
        "from tensorflow.keras.callbacks import ModelCheckpoint, ReduceLROnPlateau\n",
        "from tensorflow.keras.utils import plot_model"
      ],
      "execution_count": 0,
      "outputs": []
    },
    {
      "cell_type": "code",
      "metadata": {
        "id": "h5dB9u7nHqG0",
        "colab_type": "code",
        "colab": {}
      },
      "source": [
        "# Initialising the CNN\n",
        "model = Sequential()\n",
        "\n",
        "# 1st Convolution\n",
        "model.add(Conv2D(32,(5,5), padding='same', input_shape=(64, 128,1)))\n",
        "model.add(BatchNormalization())\n",
        "model.add(Activation('relu'))\n",
        "model.add(MaxPooling2D(pool_size=(2, 2)))\n",
        "model.add(Dropout(0.25))\n",
        "\n",
        "# 2nd Convolution layer\n",
        "model.add(Conv2D(64,(5,5), padding='same'))\n",
        "model.add(BatchNormalization())\n",
        "model.add(Activation('relu'))\n",
        "model.add(MaxPooling2D(pool_size=(2, 2)))\n",
        "model.add(Dropout(0.25))\n",
        "\n",
        "# Flattening\n",
        "model.add(Flatten())\n",
        "\n",
        "# Fully connected layer\n",
        "model.add(Dense(1024))\n",
        "model.add(BatchNormalization())\n",
        "model.add(Activation('relu'))\n",
        "model.add(Dropout(0.4))\n",
        "\n",
        "model.add(Dense(4, activation='softmax'))"
      ],
      "execution_count": 0,
      "outputs": []
    },
    {
      "cell_type": "code",
      "metadata": {
        "id": "sXSHxXI4HqaI",
        "colab_type": "code",
        "colab": {}
      },
      "source": [
        ""
      ],
      "execution_count": 0,
      "outputs": []
    },
    {
      "cell_type": "markdown",
      "metadata": {
        "id": "LmXdhu-6H7Q5",
        "colab_type": "text"
      },
      "source": [
        "## Task 6: Learning Rate Scheduling and Compile the Model"
      ]
    },
    {
      "cell_type": "code",
      "metadata": {
        "id": "JNEKTceqGwuX",
        "colab_type": "code",
        "colab": {}
      },
      "source": [
        "initial_learning_rate = 0.005\n",
        "lr_schedule = tf.keras.optimizers.schedules.ExponentialDecay(\n",
        "    initial_learning_rate,\n",
        "    decay_steps=5,\n",
        "    decay_rate=0.96,\n",
        "    staircase=True)\n",
        "\n",
        "optimizer = Adam(learning_rate=lr_schedule)"
      ],
      "execution_count": 0,
      "outputs": []
    },
    {
      "cell_type": "code",
      "metadata": {
        "id": "IZi5V0W7GwxL",
        "colab_type": "code",
        "colab": {}
      },
      "source": [
        "model.compile(optimizer=optimizer, loss='categorical_crossentropy', metrics=['accuracy'])\n",
        "model.summary()"
      ],
      "execution_count": 0,
      "outputs": []
    },
    {
      "cell_type": "code",
      "metadata": {
        "id": "ApAl2xbqGwzp",
        "colab_type": "code",
        "colab": {}
      },
      "source": [
        ""
      ],
      "execution_count": 0,
      "outputs": []
    },
    {
      "cell_type": "markdown",
      "metadata": {
        "id": "tfqcUL6DIKDR",
        "colab_type": "text"
      },
      "source": [
        "## Task 7: Training the Model"
      ]
    },
    {
      "cell_type": "code",
      "metadata": {
        "id": "1fuvoWEXIQfZ",
        "colab_type": "code",
        "colab": {}
      },
      "source": [
        "checkpoint = ModelCheckpoint(\"model_weights.h5\", monitor='val_loss',\n",
        "                             save_weights_only=True, mode='min', verbose=0)\n",
        "callbacks = [PlotLossesCallback(), checkpoint]#, reduce_lr]\n",
        "batch_size = 32\n",
        "history = model.fit(\n",
        "    datagen_train.flow(x_train, y_train, batch_size=batch_size, shuffle=True),\n",
        "    steps_per_epoch=len(x_train)//batch_size,\n",
        "    validation_data = datagen_val.flow(x_val, y_val, batch_size=batch_size, shuffle=True),\n",
        "    validation_steps = len(x_val)//batch_size,\n",
        "    epochs=12,\n",
        "    callbacks=callbacks\n",
        ")"
      ],
      "execution_count": 0,
      "outputs": []
    },
    {
      "cell_type": "code",
      "metadata": {
        "id": "zyaFllz-IQiD",
        "colab_type": "code",
        "colab": {}
      },
      "source": [
        ""
      ],
      "execution_count": 0,
      "outputs": []
    },
    {
      "cell_type": "markdown",
      "metadata": {
        "id": "Out7Wpj_Ic-g",
        "colab_type": "text"
      },
      "source": [
        "## Task 8: Model Evaluation"
      ]
    },
    {
      "cell_type": "code",
      "metadata": {
        "id": "MJTxGMVEIdlp",
        "colab_type": "code",
        "colab": {}
      },
      "source": [
        "model.evaluate(x_val, y_val)"
      ],
      "execution_count": 0,
      "outputs": []
    },
    {
      "cell_type": "code",
      "metadata": {
        "id": "LmgNzJFYIdos",
        "colab_type": "code",
        "colab": {}
      },
      "source": [
        "from sklearn.metrics import confusion_matrix\n",
        "from sklearn import metrics\n",
        "import seaborn as sns\n",
        "\n",
        "y_true = np.argmax(y_val, 1)\n",
        "y_pred = np.argmax(model.predict(x_val), 1)\n",
        "print(metrics.classification_report(y_true, y_pred))\n",
        "print(\"Classification accuracy: %0.6f\" % metrics.accuracy_score(y_true, y_pred))"
      ],
      "execution_count": 0,
      "outputs": []
    },
    {
      "cell_type": "code",
      "metadata": {
        "id": "yxaqITweIdr5",
        "colab_type": "code",
        "colab": {}
      },
      "source": [
        "labels = [\"squiggle\", \"narrowband\", \"noise\", \"narrowbanddrd\"]\n",
        "\n",
        "ax= plt.subplot()\n",
        "sns.heatmap(metrics.confusion_matrix(y_true, y_pred, normalize='true'), annot=True, ax = ax, cmap=plt.cm.Blues); #annot=True to annotate cells\n",
        "\n",
        "# labels, title and ticks\n",
        "ax.set_title('Confusion Matrix'); \n",
        "ax.xaxis.set_ticklabels(labels); ax.yaxis.set_ticklabels(labels);"
      ],
      "execution_count": 0,
      "outputs": []
    }
  ]
}